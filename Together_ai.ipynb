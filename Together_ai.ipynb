{
  "nbformat": 4,
  "nbformat_minor": 0,
  "metadata": {
    "colab": {
      "provenance": []
    },
    "kernelspec": {
      "name": "python3",
      "display_name": "Python 3"
    },
    "language_info": {
      "name": "python"
    }
  },
  "cells": [
    {
      "cell_type": "code",
      "execution_count": null,
      "metadata": {
        "colab": {
          "base_uri": "https://localhost:8080/"
        },
        "id": "iZwABCiiTeWH",
        "outputId": "772a4721-4702-43cd-eda6-48000f69f6db"
      },
      "outputs": [
        {
          "output_type": "stream",
          "name": "stdout",
          "text": [
            "Collecting together\n",
            "  Downloading together-0.1.5-py3-none-any.whl (51 kB)\n",
            "\u001b[?25l     \u001b[90m━━━━━━━━━━━━━━━━━━━━━━━━━━━━━━━━━━━━━━━━\u001b[0m \u001b[32m0.0/51.9 kB\u001b[0m \u001b[31m?\u001b[0m eta \u001b[36m-:--:--\u001b[0m\r\u001b[2K     \u001b[90m━━━━━━━━━━━━━━━━━━━━━━━━━━━━━━━━━━━━━━━━\u001b[0m \u001b[32m51.9/51.9 kB\u001b[0m \u001b[31m1.4 MB/s\u001b[0m eta \u001b[36m0:00:00\u001b[0m\n",
            "\u001b[?25hRequirement already satisfied: requests in /usr/local/lib/python3.10/dist-packages (from together) (2.31.0)\n",
            "Collecting sseclient-py>=1.7.0 (from together)\n",
            "  Downloading sseclient_py-1.7.2-py2.py3-none-any.whl (8.4 kB)\n",
            "Requirement already satisfied: tqdm in /usr/local/lib/python3.10/dist-packages (from together) (4.66.1)\n",
            "Requirement already satisfied: typer in /usr/local/lib/python3.10/dist-packages (from together) (0.9.0)\n",
            "Requirement already satisfied: charset-normalizer<4,>=2 in /usr/local/lib/python3.10/dist-packages (from requests->together) (3.2.0)\n",
            "Requirement already satisfied: idna<4,>=2.5 in /usr/local/lib/python3.10/dist-packages (from requests->together) (3.4)\n",
            "Requirement already satisfied: urllib3<3,>=1.21.1 in /usr/local/lib/python3.10/dist-packages (from requests->together) (2.0.4)\n",
            "Requirement already satisfied: certifi>=2017.4.17 in /usr/local/lib/python3.10/dist-packages (from requests->together) (2023.7.22)\n",
            "Requirement already satisfied: click<9.0.0,>=7.1.1 in /usr/local/lib/python3.10/dist-packages (from typer->together) (8.1.7)\n",
            "Requirement already satisfied: typing-extensions>=3.7.4.3 in /usr/local/lib/python3.10/dist-packages (from typer->together) (4.7.1)\n",
            "Installing collected packages: sseclient-py, together\n",
            "Successfully installed sseclient-py-1.7.2 together-0.1.5\n"
          ]
        }
      ],
      "source": [
        "!pip install --upgrade together"
      ]
    },
    {
      "cell_type": "code",
      "source": [
        "import together\n",
        "together.api_key = \"6d1aaac776a31d6e68ad91544b77398ced09ea0aa0d585dc42030fff1084a208\""
      ],
      "metadata": {
        "id": "fzvr5nhWUlGR"
      },
      "execution_count": null,
      "outputs": []
    },
    {
      "cell_type": "code",
      "source": [
        "# see available models\n",
        "model_list = together.Models.list()\n",
        "\n",
        "print(f\"{len(model_list)} models available\")\n",
        "\n",
        "# print the first 10 models on the menu\n",
        "model_names = [model_dict['name'] for model_dict in model_list]\n",
        "model_names[:10]"
      ],
      "metadata": {
        "colab": {
          "base_uri": "https://localhost:8080/"
        },
        "id": "XkARUvYcclwd",
        "outputId": "677b77cf-7d25-422f-97e8-5453c176bab4"
      },
      "execution_count": null,
      "outputs": [
        {
          "output_type": "stream",
          "name": "stdout",
          "text": [
            "62 models available\n"
          ]
        },
        {
          "output_type": "execute_result",
          "data": {
            "text/plain": [
              "['EleutherAI/gpt-j-6b',\n",
              " 'EleutherAI/gpt-neox-20b',\n",
              " 'EleutherAI/pythia-12b-v0',\n",
              " 'EleutherAI/pythia-1b-v0',\n",
              " 'EleutherAI/pythia-6.9b',\n",
              " 'HuggingFaceH4/starchat-alpha',\n",
              " 'NousResearch/Nous-Hermes-13b',\n",
              " 'NousResearch/Nous-Hermes-Llama2-13b',\n",
              " 'NumbersStation/nsql-6B',\n",
              " 'OpenAssistant/oasst-sft-4-pythia-12b-epoch-3.5']"
            ]
          },
          "metadata": {},
          "execution_count": 3
        }
      ]
    },
    {
      "cell_type": "code",
      "source": [
        "together.Models.start('togethercomputer/LLaMA-2-7B-32K')"
      ],
      "metadata": {
        "colab": {
          "base_uri": "https://localhost:8080/"
        },
        "id": "sBB3Cu8Yd6gD",
        "outputId": "ac04f1b8-da7c-4556-f040-aad83f1f1c82"
      },
      "execution_count": null,
      "outputs": [
        {
          "output_type": "execute_result",
          "data": {
            "text/plain": [
              "{'success': True,\n",
              " 'value': '71c587bdce08349a939e8f3ce031dd837c264976025e1f10bcbf5f6fb973515a'}"
            ]
          },
          "metadata": {},
          "execution_count": 4
        }
      ]
    },
    {
      "cell_type": "code",
      "source": [
        "output = together.Complete.create(\n",
        "  prompt = \"Isaac Asimov's Three Laws of Robotics's are:\\n\\n1. \",\n",
        "  model = \"togethercomputer/LLaMA-2-7B-32K\",\n",
        "  max_tokens = 70,\n",
        "  temperature = 0.6,\n",
        "  top_k = 90,\n",
        "  top_p = 0.8,\n",
        "  repetition_penalty = 1.1,\n",
        "  stop = ['</s>']\n",
        ")\n",
        "\n",
        "# print generated text\n",
        "print(output['prompt'][0]+output['output']['choices'][0]['text'])"
      ],
      "metadata": {
        "colab": {
          "base_uri": "https://localhost:8080/"
        },
        "id": "BJUIR_Bjd6um",
        "outputId": "a1661ac9-65b8-4b8c-e17f-8698d5513664"
      },
      "execution_count": null,
      "outputs": [
        {
          "output_type": "stream",
          "name": "stdout",
          "text": [
            "Isaac Asimov's Three Laws of Robotics's are:\n",
            "\n",
            "1. A robot may not injure a human being or, through inaction, allow a human being to come to harm.\n",
            "2. A robot must obey the orders given it by human beings except where such orders would conflict with the First Law.\n",
            "3. A robot must protect its own existence as long as such protection does not conflict with the\n"
          ]
        }
      ]
    },
    {
      "cell_type": "code",
      "source": [
        "# print the entire output to see it's components\n",
        "print(output)"
      ],
      "metadata": {
        "colab": {
          "base_uri": "https://localhost:8080/"
        },
        "id": "TxxS-kzrd6-P",
        "outputId": "5d9d7892-0b67-4d1b-9daf-44fb319edbaf"
      },
      "execution_count": null,
      "outputs": [
        {
          "output_type": "stream",
          "name": "stdout",
          "text": [
            "{'status': 'finished', 'prompt': [\"Isaac Asimov's Three Laws of Robotics's are:\\n\\n1. \"], 'model': 'togethercomputer/LLaMA-2-7B-32K', 'model_owner': '', 'tags': {}, 'num_returns': 1, 'args': {'model': 'togethercomputer/LLaMA-2-7B-32K', 'prompt': \"Isaac Asimov's Three Laws of Robotics's are:\\n\\n1. \", 'top_p': 0.8, 'top_k': 90, 'temperature': 0.6, 'max_tokens': 70, 'stop': ['</s>'], 'repetition_penalty': 1.1, 'logprobs': None}, 'subjobs': [], 'output': {'choices': [{'finish_reason': 'length', 'index': 0, 'text': 'A robot may not injure a human being or, through inaction, allow a human being to come to harm.\\n2. A robot must obey the orders given it by human beings except where such orders would conflict with the First Law.\\n3. A robot must protect its own existence as long as such protection does not conflict with the'}], 'raw_compute_time': 2.0267359749414027, 'result_type': 'language-model-inference'}}\n"
          ]
        }
      ]
    },
    {
      "cell_type": "code",
      "source": [
        "{   'args': {   'logprobs': None,\n",
        "                'max_tokens': 70,\n",
        "                'model': 'togethercomputer/LLaMA-2-7B-32K',\n",
        "                'prompt': \"Isaac Asimov's Three Laws of Robotics are: \\n\\n1.\",\n",
        "                'repetition_penalty': 1.2,\n",
        "                'stop': ['</s>'],\n",
        "                'temperature': 0.6,\n",
        "                'top_k': 90,\n",
        "                'top_p': 0.8},\n",
        "    'model': 'togethercomputer/LLaMA-2-7B-32K',\n",
        "    'model_owner': '',\n",
        "    'num_returns': 1,\n",
        "    'output': {   'choices': [   {   'finish_reason': 'length',\n",
        "                                     'index': 0,\n",
        "                                     'text': 'A robot may not injure a human '\n",
        "                                             'being or, through inaction, '\n",
        "                                             'allow a human being to come to '\n",
        "                                             'harm.\\n'\n",
        "                                             '2. A robot must obey the orders '\n",
        "                                             'given it by human beings except '\n",
        "                                             'where such orders would conflict '\n",
        "                                             'with the First Law.\\n'\n",
        "                                             '3. A robot must protect its own '\n",
        "                                             'existence as long as such '\n",
        "                                             'protection does not conflict '\n",
        "                                             'with the'}],\n",
        "                  'raw_compute_time': 1.9681874650996178,\n",
        "                  'result_type': 'language-model-inference'},\n",
        "    'prompt': [\"Isaac Asimov's Three Laws of Robotics are: \\n\\n1.\"],\n",
        "    'status': 'finished',\n",
        "    'subjobs': [],\n",
        "    'tags': {}}"
      ],
      "metadata": {
        "colab": {
          "base_uri": "https://localhost:8080/"
        },
        "id": "r6fueVBtiitO",
        "outputId": "15fe7b9b-5eff-47b1-971f-3dc367441078"
      },
      "execution_count": null,
      "outputs": [
        {
          "output_type": "execute_result",
          "data": {
            "text/plain": [
              "{'args': {'logprobs': None,\n",
              "  'max_tokens': 70,\n",
              "  'model': 'togethercomputer/LLaMA-2-7B-32K',\n",
              "  'prompt': \"Isaac Asimov's Three Laws of Robotics are: \\n\\n1.\",\n",
              "  'repetition_penalty': 1.2,\n",
              "  'stop': ['</s>'],\n",
              "  'temperature': 0.6,\n",
              "  'top_k': 90,\n",
              "  'top_p': 0.8},\n",
              " 'model': 'togethercomputer/LLaMA-2-7B-32K',\n",
              " 'model_owner': '',\n",
              " 'num_returns': 1,\n",
              " 'output': {'choices': [{'finish_reason': 'length',\n",
              "    'index': 0,\n",
              "    'text': 'A robot may not injure a human being or, through inaction, allow a human being to come to harm.\\n2. A robot must obey the orders given it by human beings except where such orders would conflict with the First Law.\\n3. A robot must protect its own existence as long as such protection does not conflict with the'}],\n",
              "  'raw_compute_time': 1.9681874650996178,\n",
              "  'result_type': 'language-model-inference'},\n",
              " 'prompt': [\"Isaac Asimov's Three Laws of Robotics are: \\n\\n1.\"],\n",
              " 'status': 'finished',\n",
              " 'subjobs': [],\n",
              " 'tags': {}}"
            ]
          },
          "metadata": {},
          "execution_count": 7
        }
      ]
    },
    {
      "cell_type": "code",
      "source": [
        "together.Models.instances()"
      ],
      "metadata": {
        "colab": {
          "base_uri": "https://localhost:8080/"
        },
        "id": "mZr7tZjaioQK",
        "outputId": "c1d351e7-b2b5-4837-ff81-77b7ff6ed39d"
      },
      "execution_count": null,
      "outputs": [
        {
          "output_type": "execute_result",
          "data": {
            "text/plain": [
              "{'togethercomputer/LLaMA-2-7B-32K': True,\n",
              " 'togethercomputer/CodeLlama-13b-Instruct': False}"
            ]
          },
          "metadata": {},
          "execution_count": 8
        }
      ]
    },
    {
      "cell_type": "code",
      "source": [
        "together.Models.stop(\"togethercomputer/LLaMA-2-7B-32K\")"
      ],
      "metadata": {
        "colab": {
          "base_uri": "https://localhost:8080/"
        },
        "id": "Q6uUagdbiwja",
        "outputId": "a40103b1-5bde-4903-89ac-04c220562dbe"
      },
      "execution_count": null,
      "outputs": [
        {
          "output_type": "execute_result",
          "data": {
            "text/plain": [
              "{'success': True}"
            ]
          },
          "metadata": {},
          "execution_count": 9
        }
      ]
    },
    {
      "cell_type": "code",
      "source": [
        "{\"text\": \"/content/snli_1.0_train.jsonl\"}"
      ],
      "metadata": {
        "colab": {
          "base_uri": "https://localhost:8080/"
        },
        "id": "2Io-qwSeGTpc",
        "outputId": "352caf56-3fb5-4528-b260-674da6a0e66f"
      },
      "execution_count": null,
      "outputs": [
        {
          "output_type": "execute_result",
          "data": {
            "text/plain": [
              "{'text': '/content/snli_1.0_train.jsonl'}"
            ]
          },
          "metadata": {},
          "execution_count": 13
        }
      ]
    },
    {
      "cell_type": "code",
      "source": [
        "resp = together.Files.check(file=\"/content/snli_1.0_train.jsonl\")\n",
        "print(resp)"
      ],
      "metadata": {
        "colab": {
          "base_uri": "https://localhost:8080/"
        },
        "id": "Itxvg7fSKhi_",
        "outputId": "aca8f766-6516-494b-fbea-76676e5f219c"
      },
      "execution_count": null,
      "outputs": [
        {
          "output_type": "stream",
          "name": "stdout",
          "text": [
            "{'is_check_passed': False, 'model_special_tokens': 'we are not yet checking end of sentence tokens for this model', 'file_present': 'File found', 'file_size': 'File size 0.071 GB', 'text_field': 'No \"text\" field was found on line 87871 of the the input file.Expected format: {\"text\":\"my sample string\"}.see https://docs.together.ai/docs/fine-tuning for more information.{\"annotator_labels\": [\"neutral\"], \"captionID\": \"263912241.jpg#2\", \"gold_label\": \"neutral\", \"pairID\": \"263912241.jpg#2r5n\", \"sentence1\": \"Two Asians engage in a staring contest while they wait for the train.\", \"sentence1_binary_parse\": \"( ( Two Asians ) ( ( engage ( in ( ( a ( staring contest ) ) ( while ( they ( wait ( for ( the train ) ) ) ) ) ) ) ) . ) )\", \"sentence1_parse\": \"(ROOT (S (NP (CD Two) (NNPS Asians)) (VP (VBP engage) (PP (IN in) (NP (NP (DT a) (VBG staring) (NN contest)) (SBAR (IN while) (S (NP (PRP they)) (VP (VBP wait) (PP (IN for) (NP (DT the) (NN train))))))))) (. .)))\", \"sentence2\": \"Huge people staring\", \"sentence2_binary_parse\": \"( ( Huge people ) staring )\", \"sentence2_parse\": \"(ROOT (S (NP (NP (JJ Huge) (NNS people)) (VP (VBG staring)))))\"}\\n', 'load_json': 'File should be a valid jsonlines (.jsonl) with a json in each line.Example of valid json: {\"text\":\"my sample string\"}Valid json not found in one or more lines in file.see https://docs.together.ai/docs/fine-tuning.The first line where this occur is line 87872, where 1 is the first line.{\"annotator_labels\": [\"neutral\"], \"captionID', 'num_samples_w_eos_token': 0}\n"
          ]
        }
      ]
    },
    {
      "cell_type": "code",
      "source": [
        "together.Files.check(file=\"/content/snli_1.0_train.jsonl\",model=\"togethercomputer/RedPajama-INCITE-Chat-3B-v1\")"
      ],
      "metadata": {
        "colab": {
          "base_uri": "https://localhost:8080/"
        },
        "id": "E4Lw4bavLFJj",
        "outputId": "3b657a17-8a97-4cf3-d652-d9d3b1548d04"
      },
      "execution_count": null,
      "outputs": [
        {
          "output_type": "execute_result",
          "data": {
            "text/plain": [
              "{'is_check_passed': False,\n",
              " 'model_special_tokens': 'the end of sentence token for this model is <|endoftext|>',\n",
              " 'file_present': 'File found',\n",
              " 'file_size': 'File size 0.085 GB',\n",
              " 'text_field': 'No \"text\" field was found on line 103348 of the the input file.Expected format: {\"text\":\"my sample string\"}.see https://docs.together.ai/docs/fine-tuning for more information.{\"annotator_labels\": [\"neutral\"], \"captionID\": \"vg_verb23\", \"gold_label\": \"neutral\", \"pairID\": \"vg_verb23r4n\", \"sentence1\": \"A person on a snow board jumps high into the air.\", \"sentence1_binary_parse\": \"( ( ( A person ) ( on ( a ( snow board ) ) ) ) ( ( jumps ( high ( into ( the air ) ) ) ) . ) )\", \"sentence1_parse\": \"(ROOT (S (NP (NP (DT A) (NN person)) (PP (IN on) (NP (DT a) (NN snow) (NN board)))) (VP (VBZ jumps) (ADJP (JJ high) (PP (IN into) (NP (DT the) (NN air))))) (. .)))\", \"sentence2\": \"A female snowboarder jumps into the air\", \"sentence2_binary_parse\": \"( ( A ( female snowboarder ) ) ( jumps ( into ( the air ) ) ) )\", \"sentence2_parse\": \"(ROOT (S (NP (DT A) (JJ female) (NN snowboarder)) (VP (VBZ jumps) (PP (IN into) (NP (DT the) (NN air))))))\"}\\n',\n",
              " 'load_json': 'File should be a valid jsonlines (.jsonl) with a json in each line.Example of valid json: {\"text\":\"my sample string\"}Valid json not found in one or more lines in file.see https://docs.together.ai/docs/fine-tuning.The first line where this occur is line 103349, where 1 is the first line.{\"annotator_labels\": [\"neutral\"], \"captionID\": \"vg_verb23\", \"gold_label\": \"neutral\", \"pairID\": \"vg_verb23r5n\", \"sentence1\": \"A person on a snow board jumps high into the air.\", \"sentence1_binary_parse\": \"( ( ( A person ) ( on ( a ( snow board ) ) ) ) ( ( jumps ( high ( into ( the air ) ) ) ) . ) )\", \"sentence1_parse\": \"(ROOT (S (NP (NP (DT A) (NN person)) (PP (IN on) (NP (DT a) (NN snow) (NN board)))) (VP (VBZ jumps) (ADJP (JJ high) (PP (IN into) (NP (DT the) (NN air))))) (. .)))\", \"sentence2\": \"A person snowboards does a snowboard trick\", \"sentence2_binary_parse\": \"( ( A (',\n",
              " 'num_samples_w_eos_token': 0}"
            ]
          },
          "metadata": {},
          "execution_count": 16
        }
      ]
    }
  ]
}