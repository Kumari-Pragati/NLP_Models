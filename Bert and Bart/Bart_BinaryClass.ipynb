{
  "nbformat": 4,
  "nbformat_minor": 0,
  "metadata": {
    "colab": {
      "provenance": []
    },
    "kernelspec": {
      "name": "python3",
      "display_name": "Python 3"
    },
    "language_info": {
      "name": "python"
    }
  },
  "cells": [
    {
      "cell_type": "code",
      "source": [
        "!pip install transformers"
      ],
      "metadata": {
        "colab": {
          "base_uri": "https://localhost:8080/"
        },
        "id": "KSNQ-OMxlFJZ",
        "outputId": "0d586c09-2c26-429b-b940-7dfc5a25b564"
      },
      "execution_count": null,
      "outputs": [
        {
          "output_type": "stream",
          "name": "stdout",
          "text": [
            "Requirement already satisfied: transformers in /usr/local/lib/python3.10/dist-packages (4.32.0)\n",
            "Requirement already satisfied: filelock in /usr/local/lib/python3.10/dist-packages (from transformers) (3.12.2)\n",
            "Requirement already satisfied: huggingface-hub<1.0,>=0.15.1 in /usr/local/lib/python3.10/dist-packages (from transformers) (0.16.4)\n",
            "Requirement already satisfied: numpy>=1.17 in /usr/local/lib/python3.10/dist-packages (from transformers) (1.23.5)\n",
            "Requirement already satisfied: packaging>=20.0 in /usr/local/lib/python3.10/dist-packages (from transformers) (23.1)\n",
            "Requirement already satisfied: pyyaml>=5.1 in /usr/local/lib/python3.10/dist-packages (from transformers) (6.0.1)\n",
            "Requirement already satisfied: regex!=2019.12.17 in /usr/local/lib/python3.10/dist-packages (from transformers) (2023.6.3)\n",
            "Requirement already satisfied: requests in /usr/local/lib/python3.10/dist-packages (from transformers) (2.31.0)\n",
            "Requirement already satisfied: tokenizers!=0.11.3,<0.14,>=0.11.1 in /usr/local/lib/python3.10/dist-packages (from transformers) (0.13.3)\n",
            "Requirement already satisfied: safetensors>=0.3.1 in /usr/local/lib/python3.10/dist-packages (from transformers) (0.3.3)\n",
            "Requirement already satisfied: tqdm>=4.27 in /usr/local/lib/python3.10/dist-packages (from transformers) (4.66.1)\n",
            "Requirement already satisfied: fsspec in /usr/local/lib/python3.10/dist-packages (from huggingface-hub<1.0,>=0.15.1->transformers) (2023.6.0)\n",
            "Requirement already satisfied: typing-extensions>=3.7.4.3 in /usr/local/lib/python3.10/dist-packages (from huggingface-hub<1.0,>=0.15.1->transformers) (4.7.1)\n",
            "Requirement already satisfied: charset-normalizer<4,>=2 in /usr/local/lib/python3.10/dist-packages (from requests->transformers) (3.2.0)\n",
            "Requirement already satisfied: idna<4,>=2.5 in /usr/local/lib/python3.10/dist-packages (from requests->transformers) (3.4)\n",
            "Requirement already satisfied: urllib3<3,>=1.21.1 in /usr/local/lib/python3.10/dist-packages (from requests->transformers) (2.0.4)\n",
            "Requirement already satisfied: certifi>=2017.4.17 in /usr/local/lib/python3.10/dist-packages (from requests->transformers) (2023.7.22)\n"
          ]
        }
      ]
    },
    {
      "cell_type": "code",
      "execution_count": null,
      "metadata": {
        "id": "kE-e8DwVkqsT"
      },
      "outputs": [],
      "source": [
        "import pandas as pd\n",
        "import numpy as np\n",
        "import torch\n",
        "import torch.nn as nn\n",
        "from sklearn.model_selection import train_test_split\n",
        "from transformers import BartTokenizer, BartForSequenceClassification, AdamW\n",
        "from sklearn.preprocessing import LabelEncoder\n",
        "from sklearn.metrics import accuracy_score\n",
        "from gensim.models import Word2Vec"
      ]
    },
    {
      "cell_type": "code",
      "source": [
        "# Load your training and testing datasets\n",
        "train_data = pd.read_csv('Train_dataset.csv')\n",
        "test_data = pd.read_csv('Test_dataset.csv')"
      ],
      "metadata": {
        "id": "r2GwY4yxle7B"
      },
      "execution_count": null,
      "outputs": []
    },
    {
      "cell_type": "code",
      "source": [
        "#CSV has 'Text' and 'L1' columns\n",
        "train_texts = list(train_data['Text'])\n",
        "train_labels = list(train_data['L1'])\n",
        "\n",
        "test_texts = list(test_data['Text'])\n",
        "test_labels = list(test_data['L1'])\n"
      ],
      "metadata": {
        "id": "SAGAZy9Vlpfd"
      },
      "execution_count": null,
      "outputs": []
    },
    {
      "cell_type": "code",
      "source": [
        "label_mapping = {\"tech person\": 0, \"non-tech person\": 1}"
      ],
      "metadata": {
        "id": "zOwZmAWloMLO"
      },
      "execution_count": null,
      "outputs": []
    },
    {
      "cell_type": "code",
      "source": [
        "# Encode categorical labels using LabelEncoder\n",
        "label_encoder = LabelEncoder()\n",
        "encoded_labels = label_encoder.fit_transform(train_labels)"
      ],
      "metadata": {
        "id": "ToxdpmlpmZD5"
      },
      "execution_count": null,
      "outputs": []
    },
    {
      "cell_type": "code",
      "source": [
        "# Split the data into training and testing sets\n",
        "train_texts, test_texts, train_labels, test_labels = train_test_split(train_texts, encoded_labels, test_size=0.2, random_state=42)"
      ],
      "metadata": {
        "id": "G2-Ho1zNmzJk"
      },
      "execution_count": null,
      "outputs": []
    },
    {
      "cell_type": "code",
      "source": [
        "# Train Word2Vec model on your text data\n",
        "tokenized_texts = [text.split() for text in train_texts]\n",
        "word2vec_model = Word2Vec(tokenized_texts, vector_size=100, window=5, min_count=1, sg=1)  # Example parameters\n"
      ],
      "metadata": {
        "id": "KjXN0fYrnCwl"
      },
      "execution_count": null,
      "outputs": []
    },
    {
      "cell_type": "code",
      "source": [
        "# Convert each token into a Word2Vec embedding\n",
        "train_embeddings = []\n",
        "\n",
        "for tokens in tokenized_texts:\n",
        "    embeddings = [word2vec_model.wv[word] for word in tokens if word in word2vec_model.wv]\n",
        "    if embeddings:\n",
        "        mean_embedding = np.mean(embeddings, axis=0)\n",
        "    else:\n",
        "        mean_embedding = np.zeros(word2vec_model.vector_size)\n",
        "    train_embeddings.append(mean_embedding)\n",
        "\n",
        "train_embeddings = np.array(train_embeddings)"
      ],
      "metadata": {
        "id": "RlDOQZ91nKKi"
      },
      "execution_count": null,
      "outputs": []
    },
    {
      "cell_type": "code",
      "source": [
        "# Load BART tokenizer and classification model\n",
        "tokenizer = BartTokenizer.from_pretrained('facebook/bart-base')\n",
        "num_classes = len(label_encoder.classes_)\n",
        "binary_model = BartForSequenceClassification.from_pretrained('facebook/bart-base', num_labels=2)  # Binary classification"
      ],
      "metadata": {
        "colab": {
          "base_uri": "https://localhost:8080/"
        },
        "id": "DG8yFWffnKM3",
        "outputId": "36efacd2-b01d-46fb-bc18-417de704ec69"
      },
      "execution_count": null,
      "outputs": [
        {
          "output_type": "stream",
          "name": "stderr",
          "text": [
            "Some weights of BartForSequenceClassification were not initialized from the model checkpoint at facebook/bart-base and are newly initialized: ['classification_head.out_proj.weight', 'classification_head.dense.weight', 'classification_head.out_proj.bias', 'classification_head.dense.bias']\n",
            "You should probably TRAIN this model on a down-stream task to be able to use it for predictions and inference.\n"
          ]
        }
      ]
    },
    {
      "cell_type": "code",
      "source": [
        "# Tokenize and encode the text data\n",
        "train_encodings = tokenizer(train_texts, truncation=True, padding=True, return_tensors='pt')\n",
        "test_encodings = tokenizer(test_texts, truncation=True, padding=True, return_tensors='pt')\n",
        "\n",
        "train_inputs = {key: val for key, val in train_encodings.items()}\n",
        "train_labels_tensor = torch.tensor(train_labels, dtype=torch.long)\n",
        "\n",
        "test_inputs = {key: val for key, val in test_encodings.items()}\n"
      ],
      "metadata": {
        "id": "czH5u-ugnKQS"
      },
      "execution_count": null,
      "outputs": []
    },
    {
      "cell_type": "code",
      "source": [
        "# Convert Word2Vec embeddings to PyTorch tensors\n",
        "train_embeddings_tensor = torch.tensor(train_embeddings, dtype=torch.float32)"
      ],
      "metadata": {
        "id": "hJ_uRNuzqEuK"
      },
      "execution_count": null,
      "outputs": []
    },
    {
      "cell_type": "code",
      "source": [
        "# Set up the optimizer\n",
        "binary_optimizer = AdamW(binary_model.parameters(), lr=1e-5)"
      ],
      "metadata": {
        "id": "Y-kuVGSYqGsI",
        "colab": {
          "base_uri": "https://localhost:8080/"
        },
        "outputId": "3160eeaa-f8ab-4f2c-dffe-76fb118c7131"
      },
      "execution_count": null,
      "outputs": [
        {
          "output_type": "stream",
          "name": "stderr",
          "text": [
            "/usr/local/lib/python3.10/dist-packages/transformers/optimization.py:411: FutureWarning: This implementation of AdamW is deprecated and will be removed in a future version. Use the PyTorch implementation torch.optim.AdamW instead, or set `no_deprecation_warning=True` to disable this warning\n",
            "  warnings.warn(\n"
          ]
        }
      ]
    },
    {
      "cell_type": "code",
      "source": [
        "# Training loop for binary classification\n",
        "num_epochs = 3\n",
        "batch_size = 16\n",
        "\n",
        "for epoch in range(num_epochs):\n",
        "    binary_model.train()\n",
        "    for i in range(0, len(train_labels), batch_size):\n",
        "        batch_inputs = {key: val[i:i+batch_size] for key, val in train_inputs.items()}\n",
        "        batch_labels = train_labels_tensor[i:i+batch_size]\n",
        "\n",
        "        binary_optimizer.zero_grad()\n",
        "        outputs = binary_model(**batch_inputs, labels=batch_labels)\n",
        "        loss = outputs.loss\n",
        "        loss.backward()\n",
        "        binary_optimizer.step()\n",
        "\n",
        "    binary_model.eval()\n",
        "    with torch.no_grad():\n",
        "        test_outputs = binary_model(**test_inputs)\n",
        "        predicted_labels = np.argmax(test_outputs.logits.numpy(), axis=1)\n",
        "        accuracy = accuracy_score(test_labels, predicted_labels)\n",
        "        print(f'Epoch {epoch + 1} - Binary Test Accuracy: {accuracy:.4f}')"
      ],
      "metadata": {
        "colab": {
          "base_uri": "https://localhost:8080/"
        },
        "id": "cSLnI6l8rj3T",
        "outputId": "60e884e8-4cf5-43c8-9cc5-575aa20ec5b2"
      },
      "execution_count": null,
      "outputs": [
        {
          "output_type": "stream",
          "name": "stdout",
          "text": [
            "Epoch 1 - Binary Test Accuracy: 0.5000\n",
            "Epoch 2 - Binary Test Accuracy: 0.5000\n",
            "Epoch 3 - Binary Test Accuracy: 0.5000\n"
          ]
        }
      ]
    }
  ]
}