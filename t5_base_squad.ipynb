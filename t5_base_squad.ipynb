{
  "nbformat": 4,
  "nbformat_minor": 0,
  "metadata": {
    "colab": {
      "provenance": []
    },
    "kernelspec": {
      "name": "python3",
      "display_name": "Python 3"
    },
    "accelerator": "GPU",
    "widgets": {
      "application/vnd.jupyter.widget-state+json": {
        "b4ece37eefde442c89beaa0cbd418d9c": {
          "model_module": "@jupyter-widgets/controls",
          "model_name": "HBoxModel",
          "state": {
            "_view_name": "HBoxView",
            "_dom_classes": [],
            "_model_name": "HBoxModel",
            "_view_module": "@jupyter-widgets/controls",
            "_model_module_version": "1.5.0",
            "_view_count": null,
            "_view_module_version": "1.5.0",
            "box_style": "",
            "layout": "IPY_MODEL_b9443541349c4fe88cc87cd83205d186",
            "_model_module": "@jupyter-widgets/controls",
            "children": [
              "IPY_MODEL_b5ce8f0f02e0464387a8f61edd30c6e5",
              "IPY_MODEL_6ee2207e8fad4225ba56eccf36e08c74"
            ]
          },
          "model_module_version": "1.5.0"
        },
        "b9443541349c4fe88cc87cd83205d186": {
          "model_module": "@jupyter-widgets/base",
          "model_name": "LayoutModel",
          "state": {
            "_view_name": "LayoutView",
            "grid_template_rows": null,
            "right": null,
            "justify_content": null,
            "_view_module": "@jupyter-widgets/base",
            "overflow": null,
            "_model_module_version": "1.2.0",
            "_view_count": null,
            "flex_flow": null,
            "width": null,
            "min_width": null,
            "border": null,
            "align_items": null,
            "bottom": null,
            "_model_module": "@jupyter-widgets/base",
            "top": null,
            "grid_column": null,
            "overflow_y": null,
            "overflow_x": null,
            "grid_auto_flow": null,
            "grid_area": null,
            "grid_template_columns": null,
            "flex": null,
            "_model_name": "LayoutModel",
            "justify_items": null,
            "grid_row": null,
            "max_height": null,
            "align_content": null,
            "visibility": null,
            "align_self": null,
            "height": null,
            "min_height": null,
            "padding": null,
            "grid_auto_rows": null,
            "grid_gap": null,
            "max_width": null,
            "order": null,
            "_view_module_version": "1.2.0",
            "grid_template_areas": null,
            "object_position": null,
            "object_fit": null,
            "grid_auto_columns": null,
            "margin": null,
            "display": null,
            "left": null
          },
          "model_module_version": "1.2.0"
        },
        "b5ce8f0f02e0464387a8f61edd30c6e5": {
          "model_module": "@jupyter-widgets/controls",
          "model_name": "FloatProgressModel",
          "state": {
            "_view_name": "ProgressView",
            "style": "IPY_MODEL_e811d82997f54ee0aad02e52437b1acf",
            "_dom_classes": [],
            "description": "Downloading: 100%",
            "_model_name": "FloatProgressModel",
            "bar_style": "success",
            "max": 1231,
            "_view_module": "@jupyter-widgets/controls",
            "_model_module_version": "1.5.0",
            "value": 1231,
            "_view_count": null,
            "_view_module_version": "1.5.0",
            "orientation": "horizontal",
            "min": 0,
            "description_tooltip": null,
            "_model_module": "@jupyter-widgets/controls",
            "layout": "IPY_MODEL_6e447135dd77400c86efb6165bcb4e54"
          },
          "model_module_version": "1.5.0"
        },
        "6ee2207e8fad4225ba56eccf36e08c74": {
          "model_module": "@jupyter-widgets/controls",
          "model_name": "HTMLModel",
          "state": {
            "_view_name": "HTMLView",
            "style": "IPY_MODEL_31aec7619ea04de5b640348a6f394775",
            "_dom_classes": [],
            "description": "",
            "_model_name": "HTMLModel",
            "placeholder": "​",
            "_view_module": "@jupyter-widgets/controls",
            "_model_module_version": "1.5.0",
            "value": " 1.23k/1.23k [00:02&lt;00:00, 506B/s]",
            "_view_count": null,
            "_view_module_version": "1.5.0",
            "description_tooltip": null,
            "_model_module": "@jupyter-widgets/controls",
            "layout": "IPY_MODEL_88f192d5e27643bfb17fdf38d88f51ae"
          },
          "model_module_version": "1.5.0"
        },
        "e811d82997f54ee0aad02e52437b1acf": {
          "model_module": "@jupyter-widgets/controls",
          "model_name": "ProgressStyleModel",
          "state": {
            "_view_name": "StyleView",
            "_model_name": "ProgressStyleModel",
            "description_width": "initial",
            "_view_module": "@jupyter-widgets/base",
            "_model_module_version": "1.5.0",
            "_view_count": null,
            "_view_module_version": "1.2.0",
            "bar_color": null,
            "_model_module": "@jupyter-widgets/controls"
          },
          "model_module_version": "1.5.0"
        },
        "6e447135dd77400c86efb6165bcb4e54": {
          "model_module": "@jupyter-widgets/base",
          "model_name": "LayoutModel",
          "state": {
            "_view_name": "LayoutView",
            "grid_template_rows": null,
            "right": null,
            "justify_content": null,
            "_view_module": "@jupyter-widgets/base",
            "overflow": null,
            "_model_module_version": "1.2.0",
            "_view_count": null,
            "flex_flow": null,
            "width": null,
            "min_width": null,
            "border": null,
            "align_items": null,
            "bottom": null,
            "_model_module": "@jupyter-widgets/base",
            "top": null,
            "grid_column": null,
            "overflow_y": null,
            "overflow_x": null,
            "grid_auto_flow": null,
            "grid_area": null,
            "grid_template_columns": null,
            "flex": null,
            "_model_name": "LayoutModel",
            "justify_items": null,
            "grid_row": null,
            "max_height": null,
            "align_content": null,
            "visibility": null,
            "align_self": null,
            "height": null,
            "min_height": null,
            "padding": null,
            "grid_auto_rows": null,
            "grid_gap": null,
            "max_width": null,
            "order": null,
            "_view_module_version": "1.2.0",
            "grid_template_areas": null,
            "object_position": null,
            "object_fit": null,
            "grid_auto_columns": null,
            "margin": null,
            "display": null,
            "left": null
          },
          "model_module_version": "1.2.0"
        },
        "31aec7619ea04de5b640348a6f394775": {
          "model_module": "@jupyter-widgets/controls",
          "model_name": "DescriptionStyleModel",
          "state": {
            "_view_name": "StyleView",
            "_model_name": "DescriptionStyleModel",
            "description_width": "",
            "_view_module": "@jupyter-widgets/base",
            "_model_module_version": "1.5.0",
            "_view_count": null,
            "_view_module_version": "1.2.0",
            "_model_module": "@jupyter-widgets/controls"
          },
          "model_module_version": "1.5.0"
        },
        "88f192d5e27643bfb17fdf38d88f51ae": {
          "model_module": "@jupyter-widgets/base",
          "model_name": "LayoutModel",
          "state": {
            "_view_name": "LayoutView",
            "grid_template_rows": null,
            "right": null,
            "justify_content": null,
            "_view_module": "@jupyter-widgets/base",
            "overflow": null,
            "_model_module_version": "1.2.0",
            "_view_count": null,
            "flex_flow": null,
            "width": null,
            "min_width": null,
            "border": null,
            "align_items": null,
            "bottom": null,
            "_model_module": "@jupyter-widgets/base",
            "top": null,
            "grid_column": null,
            "overflow_y": null,
            "overflow_x": null,
            "grid_auto_flow": null,
            "grid_area": null,
            "grid_template_columns": null,
            "flex": null,
            "_model_name": "LayoutModel",
            "justify_items": null,
            "grid_row": null,
            "max_height": null,
            "align_content": null,
            "visibility": null,
            "align_self": null,
            "height": null,
            "min_height": null,
            "padding": null,
            "grid_auto_rows": null,
            "grid_gap": null,
            "max_width": null,
            "order": null,
            "_view_module_version": "1.2.0",
            "grid_template_areas": null,
            "object_position": null,
            "object_fit": null,
            "grid_auto_columns": null,
            "margin": null,
            "display": null,
            "left": null
          },
          "model_module_version": "1.2.0"
        },
        "19566fd2481c46a4b4ed1d163670278b": {
          "model_module": "@jupyter-widgets/controls",
          "model_name": "HBoxModel",
          "state": {
            "_view_name": "HBoxView",
            "_dom_classes": [],
            "_model_name": "HBoxModel",
            "_view_module": "@jupyter-widgets/controls",
            "_model_module_version": "1.5.0",
            "_view_count": null,
            "_view_module_version": "1.5.0",
            "box_style": "",
            "layout": "IPY_MODEL_9abbbee2b45548f7a638d6cf1b002e3d",
            "_model_module": "@jupyter-widgets/controls",
            "children": [
              "IPY_MODEL_336c4a650f514e09ad4ab7215c00ec22",
              "IPY_MODEL_ee47da69c50a44938c9a9d8e98aa4d30"
            ]
          },
          "model_module_version": "1.5.0"
        },
        "9abbbee2b45548f7a638d6cf1b002e3d": {
          "model_module": "@jupyter-widgets/base",
          "model_name": "LayoutModel",
          "state": {
            "_view_name": "LayoutView",
            "grid_template_rows": null,
            "right": null,
            "justify_content": null,
            "_view_module": "@jupyter-widgets/base",
            "overflow": null,
            "_model_module_version": "1.2.0",
            "_view_count": null,
            "flex_flow": null,
            "width": null,
            "min_width": null,
            "border": null,
            "align_items": null,
            "bottom": null,
            "_model_module": "@jupyter-widgets/base",
            "top": null,
            "grid_column": null,
            "overflow_y": null,
            "overflow_x": null,
            "grid_auto_flow": null,
            "grid_area": null,
            "grid_template_columns": null,
            "flex": null,
            "_model_name": "LayoutModel",
            "justify_items": null,
            "grid_row": null,
            "max_height": null,
            "align_content": null,
            "visibility": null,
            "align_self": null,
            "height": null,
            "min_height": null,
            "padding": null,
            "grid_auto_rows": null,
            "grid_gap": null,
            "max_width": null,
            "order": null,
            "_view_module_version": "1.2.0",
            "grid_template_areas": null,
            "object_position": null,
            "object_fit": null,
            "grid_auto_columns": null,
            "margin": null,
            "display": null,
            "left": null
          },
          "model_module_version": "1.2.0"
        },
        "336c4a650f514e09ad4ab7215c00ec22": {
          "model_module": "@jupyter-widgets/controls",
          "model_name": "FloatProgressModel",
          "state": {
            "_view_name": "ProgressView",
            "style": "IPY_MODEL_11625372863a484fa38e95b4c77b67c5",
            "_dom_classes": [],
            "description": "Downloading: 100%",
            "_model_name": "FloatProgressModel",
            "bar_style": "success",
            "max": 791656,
            "_view_module": "@jupyter-widgets/controls",
            "_model_module_version": "1.5.0",
            "value": 791656,
            "_view_count": null,
            "_view_module_version": "1.5.0",
            "orientation": "horizontal",
            "min": 0,
            "description_tooltip": null,
            "_model_module": "@jupyter-widgets/controls",
            "layout": "IPY_MODEL_9d828726d27342d9bc8cbb2775616b3e"
          },
          "model_module_version": "1.5.0"
        },
        "ee47da69c50a44938c9a9d8e98aa4d30": {
          "model_module": "@jupyter-widgets/controls",
          "model_name": "HTMLModel",
          "state": {
            "_view_name": "HTMLView",
            "style": "IPY_MODEL_bc594145ce8c4cc7b62093983c2b390b",
            "_dom_classes": [],
            "description": "",
            "_model_name": "HTMLModel",
            "placeholder": "​",
            "_view_module": "@jupyter-widgets/controls",
            "_model_module_version": "1.5.0",
            "value": " 792k/792k [00:01&lt;00:00, 487kB/s]",
            "_view_count": null,
            "_view_module_version": "1.5.0",
            "description_tooltip": null,
            "_model_module": "@jupyter-widgets/controls",
            "layout": "IPY_MODEL_172588aeefdb48b28591fe6c2f965252"
          },
          "model_module_version": "1.5.0"
        },
        "11625372863a484fa38e95b4c77b67c5": {
          "model_module": "@jupyter-widgets/controls",
          "model_name": "ProgressStyleModel",
          "state": {
            "_view_name": "StyleView",
            "_model_name": "ProgressStyleModel",
            "description_width": "initial",
            "_view_module": "@jupyter-widgets/base",
            "_model_module_version": "1.5.0",
            "_view_count": null,
            "_view_module_version": "1.2.0",
            "bar_color": null,
            "_model_module": "@jupyter-widgets/controls"
          },
          "model_module_version": "1.5.0"
        },
        "9d828726d27342d9bc8cbb2775616b3e": {
          "model_module": "@jupyter-widgets/base",
          "model_name": "LayoutModel",
          "state": {
            "_view_name": "LayoutView",
            "grid_template_rows": null,
            "right": null,
            "justify_content": null,
            "_view_module": "@jupyter-widgets/base",
            "overflow": null,
            "_model_module_version": "1.2.0",
            "_view_count": null,
            "flex_flow": null,
            "width": null,
            "min_width": null,
            "border": null,
            "align_items": null,
            "bottom": null,
            "_model_module": "@jupyter-widgets/base",
            "top": null,
            "grid_column": null,
            "overflow_y": null,
            "overflow_x": null,
            "grid_auto_flow": null,
            "grid_area": null,
            "grid_template_columns": null,
            "flex": null,
            "_model_name": "LayoutModel",
            "justify_items": null,
            "grid_row": null,
            "max_height": null,
            "align_content": null,
            "visibility": null,
            "align_self": null,
            "height": null,
            "min_height": null,
            "padding": null,
            "grid_auto_rows": null,
            "grid_gap": null,
            "max_width": null,
            "order": null,
            "_view_module_version": "1.2.0",
            "grid_template_areas": null,
            "object_position": null,
            "object_fit": null,
            "grid_auto_columns": null,
            "margin": null,
            "display": null,
            "left": null
          },
          "model_module_version": "1.2.0"
        },
        "bc594145ce8c4cc7b62093983c2b390b": {
          "model_module": "@jupyter-widgets/controls",
          "model_name": "DescriptionStyleModel",
          "state": {
            "_view_name": "StyleView",
            "_model_name": "DescriptionStyleModel",
            "description_width": "",
            "_view_module": "@jupyter-widgets/base",
            "_model_module_version": "1.5.0",
            "_view_count": null,
            "_view_module_version": "1.2.0",
            "_model_module": "@jupyter-widgets/controls"
          },
          "model_module_version": "1.5.0"
        },
        "172588aeefdb48b28591fe6c2f965252": {
          "model_module": "@jupyter-widgets/base",
          "model_name": "LayoutModel",
          "state": {
            "_view_name": "LayoutView",
            "grid_template_rows": null,
            "right": null,
            "justify_content": null,
            "_view_module": "@jupyter-widgets/base",
            "overflow": null,
            "_model_module_version": "1.2.0",
            "_view_count": null,
            "flex_flow": null,
            "width": null,
            "min_width": null,
            "border": null,
            "align_items": null,
            "bottom": null,
            "_model_module": "@jupyter-widgets/base",
            "top": null,
            "grid_column": null,
            "overflow_y": null,
            "overflow_x": null,
            "grid_auto_flow": null,
            "grid_area": null,
            "grid_template_columns": null,
            "flex": null,
            "_model_name": "LayoutModel",
            "justify_items": null,
            "grid_row": null,
            "max_height": null,
            "align_content": null,
            "visibility": null,
            "align_self": null,
            "height": null,
            "min_height": null,
            "padding": null,
            "grid_auto_rows": null,
            "grid_gap": null,
            "max_width": null,
            "order": null,
            "_view_module_version": "1.2.0",
            "grid_template_areas": null,
            "object_position": null,
            "object_fit": null,
            "grid_auto_columns": null,
            "margin": null,
            "display": null,
            "left": null
          },
          "model_module_version": "1.2.0"
        },
        "cea26a989e854803afe1bf2099b764af": {
          "model_module": "@jupyter-widgets/controls",
          "model_name": "HBoxModel",
          "state": {
            "_view_name": "HBoxView",
            "_dom_classes": [],
            "_model_name": "HBoxModel",
            "_view_module": "@jupyter-widgets/controls",
            "_model_module_version": "1.5.0",
            "_view_count": null,
            "_view_module_version": "1.5.0",
            "box_style": "",
            "layout": "IPY_MODEL_1c7796f3de804a148f39324cf6f2db79",
            "_model_module": "@jupyter-widgets/controls",
            "children": [
              "IPY_MODEL_e29f6a651a384991b3e327d168fe51e7",
              "IPY_MODEL_790032eed6404ebfa5e713bb66767bb6"
            ]
          },
          "model_module_version": "1.5.0"
        },
        "1c7796f3de804a148f39324cf6f2db79": {
          "model_module": "@jupyter-widgets/base",
          "model_name": "LayoutModel",
          "state": {
            "_view_name": "LayoutView",
            "grid_template_rows": null,
            "right": null,
            "justify_content": null,
            "_view_module": "@jupyter-widgets/base",
            "overflow": null,
            "_model_module_version": "1.2.0",
            "_view_count": null,
            "flex_flow": null,
            "width": null,
            "min_width": null,
            "border": null,
            "align_items": null,
            "bottom": null,
            "_model_module": "@jupyter-widgets/base",
            "top": null,
            "grid_column": null,
            "overflow_y": null,
            "overflow_x": null,
            "grid_auto_flow": null,
            "grid_area": null,
            "grid_template_columns": null,
            "flex": null,
            "_model_name": "LayoutModel",
            "justify_items": null,
            "grid_row": null,
            "max_height": null,
            "align_content": null,
            "visibility": null,
            "align_self": null,
            "height": null,
            "min_height": null,
            "padding": null,
            "grid_auto_rows": null,
            "grid_gap": null,
            "max_width": null,
            "order": null,
            "_view_module_version": "1.2.0",
            "grid_template_areas": null,
            "object_position": null,
            "object_fit": null,
            "grid_auto_columns": null,
            "margin": null,
            "display": null,
            "left": null
          },
          "model_module_version": "1.2.0"
        },
        "e29f6a651a384991b3e327d168fe51e7": {
          "model_module": "@jupyter-widgets/controls",
          "model_name": "FloatProgressModel",
          "state": {
            "_view_name": "ProgressView",
            "style": "IPY_MODEL_bb15d26cd4bb48bd87239da8e603f3cd",
            "_dom_classes": [],
            "description": "Downloading: 100%",
            "_model_name": "FloatProgressModel",
            "bar_style": "success",
            "max": 65,
            "_view_module": "@jupyter-widgets/controls",
            "_model_module_version": "1.5.0",
            "value": 65,
            "_view_count": null,
            "_view_module_version": "1.5.0",
            "orientation": "horizontal",
            "min": 0,
            "description_tooltip": null,
            "_model_module": "@jupyter-widgets/controls",
            "layout": "IPY_MODEL_95ae1fbcf6a44957b9558effae8c85b7"
          },
          "model_module_version": "1.5.0"
        },
        "790032eed6404ebfa5e713bb66767bb6": {
          "model_module": "@jupyter-widgets/controls",
          "model_name": "HTMLModel",
          "state": {
            "_view_name": "HTMLView",
            "style": "IPY_MODEL_427cd01eb0b74c6992f370e6177bc04b",
            "_dom_classes": [],
            "description": "",
            "_model_name": "HTMLModel",
            "placeholder": "​",
            "_view_module": "@jupyter-widgets/controls",
            "_model_module_version": "1.5.0",
            "value": " 65.0/65.0 [00:19&lt;00:00, 3.32B/s]",
            "_view_count": null,
            "_view_module_version": "1.5.0",
            "description_tooltip": null,
            "_model_module": "@jupyter-widgets/controls",
            "layout": "IPY_MODEL_fd047dc5b49a472b91ffe9b01759e589"
          },
          "model_module_version": "1.5.0"
        },
        "bb15d26cd4bb48bd87239da8e603f3cd": {
          "model_module": "@jupyter-widgets/controls",
          "model_name": "ProgressStyleModel",
          "state": {
            "_view_name": "StyleView",
            "_model_name": "ProgressStyleModel",
            "description_width": "initial",
            "_view_module": "@jupyter-widgets/base",
            "_model_module_version": "1.5.0",
            "_view_count": null,
            "_view_module_version": "1.2.0",
            "bar_color": null,
            "_model_module": "@jupyter-widgets/controls"
          },
          "model_module_version": "1.5.0"
        },
        "95ae1fbcf6a44957b9558effae8c85b7": {
          "model_module": "@jupyter-widgets/base",
          "model_name": "LayoutModel",
          "state": {
            "_view_name": "LayoutView",
            "grid_template_rows": null,
            "right": null,
            "justify_content": null,
            "_view_module": "@jupyter-widgets/base",
            "overflow": null,
            "_model_module_version": "1.2.0",
            "_view_count": null,
            "flex_flow": null,
            "width": null,
            "min_width": null,
            "border": null,
            "align_items": null,
            "bottom": null,
            "_model_module": "@jupyter-widgets/base",
            "top": null,
            "grid_column": null,
            "overflow_y": null,
            "overflow_x": null,
            "grid_auto_flow": null,
            "grid_area": null,
            "grid_template_columns": null,
            "flex": null,
            "_model_name": "LayoutModel",
            "justify_items": null,
            "grid_row": null,
            "max_height": null,
            "align_content": null,
            "visibility": null,
            "align_self": null,
            "height": null,
            "min_height": null,
            "padding": null,
            "grid_auto_rows": null,
            "grid_gap": null,
            "max_width": null,
            "order": null,
            "_view_module_version": "1.2.0",
            "grid_template_areas": null,
            "object_position": null,
            "object_fit": null,
            "grid_auto_columns": null,
            "margin": null,
            "display": null,
            "left": null
          },
          "model_module_version": "1.2.0"
        },
        "427cd01eb0b74c6992f370e6177bc04b": {
          "model_module": "@jupyter-widgets/controls",
          "model_name": "DescriptionStyleModel",
          "state": {
            "_view_name": "StyleView",
            "_model_name": "DescriptionStyleModel",
            "description_width": "",
            "_view_module": "@jupyter-widgets/base",
            "_model_module_version": "1.5.0",
            "_view_count": null,
            "_view_module_version": "1.2.0",
            "_model_module": "@jupyter-widgets/controls"
          },
          "model_module_version": "1.5.0"
        },
        "fd047dc5b49a472b91ffe9b01759e589": {
          "model_module": "@jupyter-widgets/base",
          "model_name": "LayoutModel",
          "state": {
            "_view_name": "LayoutView",
            "grid_template_rows": null,
            "right": null,
            "justify_content": null,
            "_view_module": "@jupyter-widgets/base",
            "overflow": null,
            "_model_module_version": "1.2.0",
            "_view_count": null,
            "flex_flow": null,
            "width": null,
            "min_width": null,
            "border": null,
            "align_items": null,
            "bottom": null,
            "_model_module": "@jupyter-widgets/base",
            "top": null,
            "grid_column": null,
            "overflow_y": null,
            "overflow_x": null,
            "grid_auto_flow": null,
            "grid_area": null,
            "grid_template_columns": null,
            "flex": null,
            "_model_name": "LayoutModel",
            "justify_items": null,
            "grid_row": null,
            "max_height": null,
            "align_content": null,
            "visibility": null,
            "align_self": null,
            "height": null,
            "min_height": null,
            "padding": null,
            "grid_auto_rows": null,
            "grid_gap": null,
            "max_width": null,
            "order": null,
            "_view_module_version": "1.2.0",
            "grid_template_areas": null,
            "object_position": null,
            "object_fit": null,
            "grid_auto_columns": null,
            "margin": null,
            "display": null,
            "left": null
          },
          "model_module_version": "1.2.0"
        },
        "8ef742c94aac49e3941d3b829f8b55e5": {
          "model_module": "@jupyter-widgets/controls",
          "model_name": "HBoxModel",
          "state": {
            "_view_name": "HBoxView",
            "_dom_classes": [],
            "_model_name": "HBoxModel",
            "_view_module": "@jupyter-widgets/controls",
            "_model_module_version": "1.5.0",
            "_view_count": null,
            "_view_module_version": "1.5.0",
            "box_style": "",
            "layout": "IPY_MODEL_1f7c155dd05841bc958aac1349caa353",
            "_model_module": "@jupyter-widgets/controls",
            "children": [
              "IPY_MODEL_305b3a16b2af434397c0236b5de2bcb7",
              "IPY_MODEL_0ef441005e1040c28fe7ee7aea965222"
            ]
          },
          "model_module_version": "1.5.0"
        },
        "1f7c155dd05841bc958aac1349caa353": {
          "model_module": "@jupyter-widgets/base",
          "model_name": "LayoutModel",
          "state": {
            "_view_name": "LayoutView",
            "grid_template_rows": null,
            "right": null,
            "justify_content": null,
            "_view_module": "@jupyter-widgets/base",
            "overflow": null,
            "_model_module_version": "1.2.0",
            "_view_count": null,
            "flex_flow": null,
            "width": null,
            "min_width": null,
            "border": null,
            "align_items": null,
            "bottom": null,
            "_model_module": "@jupyter-widgets/base",
            "top": null,
            "grid_column": null,
            "overflow_y": null,
            "overflow_x": null,
            "grid_auto_flow": null,
            "grid_area": null,
            "grid_template_columns": null,
            "flex": null,
            "_model_name": "LayoutModel",
            "justify_items": null,
            "grid_row": null,
            "max_height": null,
            "align_content": null,
            "visibility": null,
            "align_self": null,
            "height": null,
            "min_height": null,
            "padding": null,
            "grid_auto_rows": null,
            "grid_gap": null,
            "max_width": null,
            "order": null,
            "_view_module_version": "1.2.0",
            "grid_template_areas": null,
            "object_position": null,
            "object_fit": null,
            "grid_auto_columns": null,
            "margin": null,
            "display": null,
            "left": null
          },
          "model_module_version": "1.2.0"
        },
        "305b3a16b2af434397c0236b5de2bcb7": {
          "model_module": "@jupyter-widgets/controls",
          "model_name": "FloatProgressModel",
          "state": {
            "_view_name": "ProgressView",
            "style": "IPY_MODEL_4333c2b2c5fe46b7b78c759c7e473026",
            "_dom_classes": [],
            "description": "Downloading: 100%",
            "_model_name": "FloatProgressModel",
            "bar_style": "success",
            "max": 90,
            "_view_module": "@jupyter-widgets/controls",
            "_model_module_version": "1.5.0",
            "value": 90,
            "_view_count": null,
            "_view_module_version": "1.5.0",
            "orientation": "horizontal",
            "min": 0,
            "description_tooltip": null,
            "_model_module": "@jupyter-widgets/controls",
            "layout": "IPY_MODEL_18b82f574f0c47a5b1698ff6f6ea9444"
          },
          "model_module_version": "1.5.0"
        },
        "0ef441005e1040c28fe7ee7aea965222": {
          "model_module": "@jupyter-widgets/controls",
          "model_name": "HTMLModel",
          "state": {
            "_view_name": "HTMLView",
            "style": "IPY_MODEL_0ba3680d8a8c4fd88745a3ff639bd62d",
            "_dom_classes": [],
            "description": "",
            "_model_name": "HTMLModel",
            "placeholder": "​",
            "_view_module": "@jupyter-widgets/controls",
            "_model_module_version": "1.5.0",
            "value": " 90.0/90.0 [00:16&lt;00:00, 5.30B/s]",
            "_view_count": null,
            "_view_module_version": "1.5.0",
            "description_tooltip": null,
            "_model_module": "@jupyter-widgets/controls",
            "layout": "IPY_MODEL_97ed014220d941c1953554d244322742"
          },
          "model_module_version": "1.5.0"
        },
        "4333c2b2c5fe46b7b78c759c7e473026": {
          "model_module": "@jupyter-widgets/controls",
          "model_name": "ProgressStyleModel",
          "state": {
            "_view_name": "StyleView",
            "_model_name": "ProgressStyleModel",
            "description_width": "initial",
            "_view_module": "@jupyter-widgets/base",
            "_model_module_version": "1.5.0",
            "_view_count": null,
            "_view_module_version": "1.2.0",
            "bar_color": null,
            "_model_module": "@jupyter-widgets/controls"
          },
          "model_module_version": "1.5.0"
        },
        "18b82f574f0c47a5b1698ff6f6ea9444": {
          "model_module": "@jupyter-widgets/base",
          "model_name": "LayoutModel",
          "state": {
            "_view_name": "LayoutView",
            "grid_template_rows": null,
            "right": null,
            "justify_content": null,
            "_view_module": "@jupyter-widgets/base",
            "overflow": null,
            "_model_module_version": "1.2.0",
            "_view_count": null,
            "flex_flow": null,
            "width": null,
            "min_width": null,
            "border": null,
            "align_items": null,
            "bottom": null,
            "_model_module": "@jupyter-widgets/base",
            "top": null,
            "grid_column": null,
            "overflow_y": null,
            "overflow_x": null,
            "grid_auto_flow": null,
            "grid_area": null,
            "grid_template_columns": null,
            "flex": null,
            "_model_name": "LayoutModel",
            "justify_items": null,
            "grid_row": null,
            "max_height": null,
            "align_content": null,
            "visibility": null,
            "align_self": null,
            "height": null,
            "min_height": null,
            "padding": null,
            "grid_auto_rows": null,
            "grid_gap": null,
            "max_width": null,
            "order": null,
            "_view_module_version": "1.2.0",
            "grid_template_areas": null,
            "object_position": null,
            "object_fit": null,
            "grid_auto_columns": null,
            "margin": null,
            "display": null,
            "left": null
          },
          "model_module_version": "1.2.0"
        },
        "0ba3680d8a8c4fd88745a3ff639bd62d": {
          "model_module": "@jupyter-widgets/controls",
          "model_name": "DescriptionStyleModel",
          "state": {
            "_view_name": "StyleView",
            "_model_name": "DescriptionStyleModel",
            "description_width": "",
            "_view_module": "@jupyter-widgets/base",
            "_model_module_version": "1.5.0",
            "_view_count": null,
            "_view_module_version": "1.2.0",
            "_model_module": "@jupyter-widgets/controls"
          },
          "model_module_version": "1.5.0"
        },
        "97ed014220d941c1953554d244322742": {
          "model_module": "@jupyter-widgets/base",
          "model_name": "LayoutModel",
          "state": {
            "_view_name": "LayoutView",
            "grid_template_rows": null,
            "right": null,
            "justify_content": null,
            "_view_module": "@jupyter-widgets/base",
            "overflow": null,
            "_model_module_version": "1.2.0",
            "_view_count": null,
            "flex_flow": null,
            "width": null,
            "min_width": null,
            "border": null,
            "align_items": null,
            "bottom": null,
            "_model_module": "@jupyter-widgets/base",
            "top": null,
            "grid_column": null,
            "overflow_y": null,
            "overflow_x": null,
            "grid_auto_flow": null,
            "grid_area": null,
            "grid_template_columns": null,
            "flex": null,
            "_model_name": "LayoutModel",
            "justify_items": null,
            "grid_row": null,
            "max_height": null,
            "align_content": null,
            "visibility": null,
            "align_self": null,
            "height": null,
            "min_height": null,
            "padding": null,
            "grid_auto_rows": null,
            "grid_gap": null,
            "max_width": null,
            "order": null,
            "_view_module_version": "1.2.0",
            "grid_template_areas": null,
            "object_position": null,
            "object_fit": null,
            "grid_auto_columns": null,
            "margin": null,
            "display": null,
            "left": null
          },
          "model_module_version": "1.2.0"
        },
        "0315d0b5e4e949bbaaef059cfe5f5d35": {
          "model_module": "@jupyter-widgets/controls",
          "model_name": "HBoxModel",
          "state": {
            "_view_name": "HBoxView",
            "_dom_classes": [],
            "_model_name": "HBoxModel",
            "_view_module": "@jupyter-widgets/controls",
            "_model_module_version": "1.5.0",
            "_view_count": null,
            "_view_module_version": "1.5.0",
            "box_style": "",
            "layout": "IPY_MODEL_9dca87dd17504341a096366ef14f3c6a",
            "_model_module": "@jupyter-widgets/controls",
            "children": [
              "IPY_MODEL_626facc5f0b1464fb9f6005b6d3ce774",
              "IPY_MODEL_be99728ff5be47b79af6c485a7213d55"
            ]
          },
          "model_module_version": "1.5.0"
        },
        "9dca87dd17504341a096366ef14f3c6a": {
          "model_module": "@jupyter-widgets/base",
          "model_name": "LayoutModel",
          "state": {
            "_view_name": "LayoutView",
            "grid_template_rows": null,
            "right": null,
            "justify_content": null,
            "_view_module": "@jupyter-widgets/base",
            "overflow": null,
            "_model_module_version": "1.2.0",
            "_view_count": null,
            "flex_flow": null,
            "width": null,
            "min_width": null,
            "border": null,
            "align_items": null,
            "bottom": null,
            "_model_module": "@jupyter-widgets/base",
            "top": null,
            "grid_column": null,
            "overflow_y": null,
            "overflow_x": null,
            "grid_auto_flow": null,
            "grid_area": null,
            "grid_template_columns": null,
            "flex": null,
            "_model_name": "LayoutModel",
            "justify_items": null,
            "grid_row": null,
            "max_height": null,
            "align_content": null,
            "visibility": null,
            "align_self": null,
            "height": null,
            "min_height": null,
            "padding": null,
            "grid_auto_rows": null,
            "grid_gap": null,
            "max_width": null,
            "order": null,
            "_view_module_version": "1.2.0",
            "grid_template_areas": null,
            "object_position": null,
            "object_fit": null,
            "grid_auto_columns": null,
            "margin": null,
            "display": null,
            "left": null
          },
          "model_module_version": "1.2.0"
        },
        "626facc5f0b1464fb9f6005b6d3ce774": {
          "model_module": "@jupyter-widgets/controls",
          "model_name": "FloatProgressModel",
          "state": {
            "_view_name": "ProgressView",
            "style": "IPY_MODEL_cad6a30041c14fbc8e523f7d87cf4f04",
            "_dom_classes": [],
            "description": "Downloading: 100%",
            "_model_name": "FloatProgressModel",
            "bar_style": "success",
            "max": 891688805,
            "_view_module": "@jupyter-widgets/controls",
            "_model_module_version": "1.5.0",
            "value": 891688805,
            "_view_count": null,
            "_view_module_version": "1.5.0",
            "orientation": "horizontal",
            "min": 0,
            "description_tooltip": null,
            "_model_module": "@jupyter-widgets/controls",
            "layout": "IPY_MODEL_73ef37d1f87c47a0a724b1fec1a21a8f"
          },
          "model_module_version": "1.5.0"
        },
        "be99728ff5be47b79af6c485a7213d55": {
          "model_module": "@jupyter-widgets/controls",
          "model_name": "HTMLModel",
          "state": {
            "_view_name": "HTMLView",
            "style": "IPY_MODEL_f3d090f69b48483b9890020abbbbb2de",
            "_dom_classes": [],
            "description": "",
            "_model_name": "HTMLModel",
            "placeholder": "​",
            "_view_module": "@jupyter-widgets/controls",
            "_model_module_version": "1.5.0",
            "value": " 892M/892M [00:15&lt;00:00, 57.5MB/s]",
            "_view_count": null,
            "_view_module_version": "1.5.0",
            "description_tooltip": null,
            "_model_module": "@jupyter-widgets/controls",
            "layout": "IPY_MODEL_ce79dc0773a349dda8255d7adcdbf34a"
          },
          "model_module_version": "1.5.0"
        },
        "cad6a30041c14fbc8e523f7d87cf4f04": {
          "model_module": "@jupyter-widgets/controls",
          "model_name": "ProgressStyleModel",
          "state": {
            "_view_name": "StyleView",
            "_model_name": "ProgressStyleModel",
            "description_width": "initial",
            "_view_module": "@jupyter-widgets/base",
            "_model_module_version": "1.5.0",
            "_view_count": null,
            "_view_module_version": "1.2.0",
            "bar_color": null,
            "_model_module": "@jupyter-widgets/controls"
          },
          "model_module_version": "1.5.0"
        },
        "73ef37d1f87c47a0a724b1fec1a21a8f": {
          "model_module": "@jupyter-widgets/base",
          "model_name": "LayoutModel",
          "state": {
            "_view_name": "LayoutView",
            "grid_template_rows": null,
            "right": null,
            "justify_content": null,
            "_view_module": "@jupyter-widgets/base",
            "overflow": null,
            "_model_module_version": "1.2.0",
            "_view_count": null,
            "flex_flow": null,
            "width": null,
            "min_width": null,
            "border": null,
            "align_items": null,
            "bottom": null,
            "_model_module": "@jupyter-widgets/base",
            "top": null,
            "grid_column": null,
            "overflow_y": null,
            "overflow_x": null,
            "grid_auto_flow": null,
            "grid_area": null,
            "grid_template_columns": null,
            "flex": null,
            "_model_name": "LayoutModel",
            "justify_items": null,
            "grid_row": null,
            "max_height": null,
            "align_content": null,
            "visibility": null,
            "align_self": null,
            "height": null,
            "min_height": null,
            "padding": null,
            "grid_auto_rows": null,
            "grid_gap": null,
            "max_width": null,
            "order": null,
            "_view_module_version": "1.2.0",
            "grid_template_areas": null,
            "object_position": null,
            "object_fit": null,
            "grid_auto_columns": null,
            "margin": null,
            "display": null,
            "left": null
          },
          "model_module_version": "1.2.0"
        },
        "f3d090f69b48483b9890020abbbbb2de": {
          "model_module": "@jupyter-widgets/controls",
          "model_name": "DescriptionStyleModel",
          "state": {
            "_view_name": "StyleView",
            "_model_name": "DescriptionStyleModel",
            "description_width": "",
            "_view_module": "@jupyter-widgets/base",
            "_model_module_version": "1.5.0",
            "_view_count": null,
            "_view_module_version": "1.2.0",
            "_model_module": "@jupyter-widgets/controls"
          },
          "model_module_version": "1.5.0"
        },
        "ce79dc0773a349dda8255d7adcdbf34a": {
          "model_module": "@jupyter-widgets/base",
          "model_name": "LayoutModel",
          "state": {
            "_view_name": "LayoutView",
            "grid_template_rows": null,
            "right": null,
            "justify_content": null,
            "_view_module": "@jupyter-widgets/base",
            "overflow": null,
            "_model_module_version": "1.2.0",
            "_view_count": null,
            "flex_flow": null,
            "width": null,
            "min_width": null,
            "border": null,
            "align_items": null,
            "bottom": null,
            "_model_module": "@jupyter-widgets/base",
            "top": null,
            "grid_column": null,
            "overflow_y": null,
            "overflow_x": null,
            "grid_auto_flow": null,
            "grid_area": null,
            "grid_template_columns": null,
            "flex": null,
            "_model_name": "LayoutModel",
            "justify_items": null,
            "grid_row": null,
            "max_height": null,
            "align_content": null,
            "visibility": null,
            "align_self": null,
            "height": null,
            "min_height": null,
            "padding": null,
            "grid_auto_rows": null,
            "grid_gap": null,
            "max_width": null,
            "order": null,
            "_view_module_version": "1.2.0",
            "grid_template_areas": null,
            "object_position": null,
            "object_fit": null,
            "grid_auto_columns": null,
            "margin": null,
            "display": null,
            "left": null
          },
          "model_module_version": "1.2.0"
        }
      }
    }
  },
  "cells": [
    {
      "cell_type": "code",
      "metadata": {
        "id": "IbJZJsxeTYQP",
        "colab": {
          "base_uri": "https://localhost:8080/",
          "height": 574
        },
        "outputId": "e3970b78-4f6b-4c97-d4b7-71193eca1d76"
      },
      "source": [
        "!pip install transformers"
      ],
      "execution_count": null,
      "outputs": [
        {
          "output_type": "stream",
          "text": [
            "Collecting transformers\n",
            "\u001b[?25l  Downloading https://files.pythonhosted.org/packages/22/97/7db72a0beef1825f82188a4b923e62a146271ac2ced7928baa4d47ef2467/transformers-2.9.1-py3-none-any.whl (641kB)\n",
            "\r\u001b[K     |▌                               | 10kB 27.2MB/s eta 0:00:01\r\u001b[K     |█                               | 20kB 5.6MB/s eta 0:00:01\r\u001b[K     |█▌                              | 30kB 6.5MB/s eta 0:00:01\r\u001b[K     |██                              | 40kB 6.4MB/s eta 0:00:01\r\u001b[K     |██▌                             | 51kB 6.7MB/s eta 0:00:01\r\u001b[K     |███                             | 61kB 7.2MB/s eta 0:00:01\r\u001b[K     |███▋                            | 71kB 7.3MB/s eta 0:00:01\r\u001b[K     |████                            | 81kB 7.2MB/s eta 0:00:01\r\u001b[K     |████▋                           | 92kB 7.2MB/s eta 0:00:01\r\u001b[K     |█████                           | 102kB 7.5MB/s eta 0:00:01\r\u001b[K     |█████▋                          | 112kB 7.5MB/s eta 0:00:01\r\u001b[K     |██████▏                         | 122kB 7.5MB/s eta 0:00:01\r\u001b[K     |██████▋                         | 133kB 7.5MB/s eta 0:00:01\r\u001b[K     |███████▏                        | 143kB 7.5MB/s eta 0:00:01\r\u001b[K     |███████▋                        | 153kB 7.5MB/s eta 0:00:01\r\u001b[K     |████████▏                       | 163kB 7.5MB/s eta 0:00:01\r\u001b[K     |████████▊                       | 174kB 7.5MB/s eta 0:00:01\r\u001b[K     |█████████▏                      | 184kB 7.5MB/s eta 0:00:01\r\u001b[K     |█████████▊                      | 194kB 7.5MB/s eta 0:00:01\r\u001b[K     |██████████▏                     | 204kB 7.5MB/s eta 0:00:01\r\u001b[K     |██████████▊                     | 215kB 7.5MB/s eta 0:00:01\r\u001b[K     |███████████▎                    | 225kB 7.5MB/s eta 0:00:01\r\u001b[K     |███████████▊                    | 235kB 7.5MB/s eta 0:00:01\r\u001b[K     |████████████▎                   | 245kB 7.5MB/s eta 0:00:01\r\u001b[K     |████████████▊                   | 256kB 7.5MB/s eta 0:00:01\r\u001b[K     |█████████████▎                  | 266kB 7.5MB/s eta 0:00:01\r\u001b[K     |█████████████▉                  | 276kB 7.5MB/s eta 0:00:01\r\u001b[K     |██████████████▎                 | 286kB 7.5MB/s eta 0:00:01\r\u001b[K     |██████████████▉                 | 296kB 7.5MB/s eta 0:00:01\r\u001b[K     |███████████████▎                | 307kB 7.5MB/s eta 0:00:01\r\u001b[K     |███████████████▉                | 317kB 7.5MB/s eta 0:00:01\r\u001b[K     |████████████████▍               | 327kB 7.5MB/s eta 0:00:01\r\u001b[K     |████████████████▉               | 337kB 7.5MB/s eta 0:00:01\r\u001b[K     |█████████████████▍              | 348kB 7.5MB/s eta 0:00:01\r\u001b[K     |█████████████████▉              | 358kB 7.5MB/s eta 0:00:01\r\u001b[K     |██████████████████▍             | 368kB 7.5MB/s eta 0:00:01\r\u001b[K     |███████████████████             | 378kB 7.5MB/s eta 0:00:01\r\u001b[K     |███████████████████▍            | 389kB 7.5MB/s eta 0:00:01\r\u001b[K     |████████████████████            | 399kB 7.5MB/s eta 0:00:01\r\u001b[K     |████████████████████▍           | 409kB 7.5MB/s eta 0:00:01\r\u001b[K     |█████████████████████           | 419kB 7.5MB/s eta 0:00:01\r\u001b[K     |█████████████████████▍          | 430kB 7.5MB/s eta 0:00:01\r\u001b[K     |██████████████████████          | 440kB 7.5MB/s eta 0:00:01\r\u001b[K     |██████████████████████▌         | 450kB 7.5MB/s eta 0:00:01\r\u001b[K     |███████████████████████         | 460kB 7.5MB/s eta 0:00:01\r\u001b[K     |███████████████████████▌        | 471kB 7.5MB/s eta 0:00:01\r\u001b[K     |████████████████████████        | 481kB 7.5MB/s eta 0:00:01\r\u001b[K     |████████████████████████▌       | 491kB 7.5MB/s eta 0:00:01\r\u001b[K     |█████████████████████████       | 501kB 7.5MB/s eta 0:00:01\r\u001b[K     |█████████████████████████▌      | 512kB 7.5MB/s eta 0:00:01\r\u001b[K     |██████████████████████████      | 522kB 7.5MB/s eta 0:00:01\r\u001b[K     |██████████████████████████▌     | 532kB 7.5MB/s eta 0:00:01\r\u001b[K     |███████████████████████████     | 542kB 7.5MB/s eta 0:00:01\r\u001b[K     |███████████████████████████▋    | 552kB 7.5MB/s eta 0:00:01\r\u001b[K     |████████████████████████████    | 563kB 7.5MB/s eta 0:00:01\r\u001b[K     |████████████████████████████▋   | 573kB 7.5MB/s eta 0:00:01\r\u001b[K     |█████████████████████████████   | 583kB 7.5MB/s eta 0:00:01\r\u001b[K     |█████████████████████████████▋  | 593kB 7.5MB/s eta 0:00:01\r\u001b[K     |██████████████████████████████▏ | 604kB 7.5MB/s eta 0:00:01\r\u001b[K     |██████████████████████████████▋ | 614kB 7.5MB/s eta 0:00:01\r\u001b[K     |███████████████████████████████▏| 624kB 7.5MB/s eta 0:00:01\r\u001b[K     |███████████████████████████████▋| 634kB 7.5MB/s eta 0:00:01\r\u001b[K     |████████████████████████████████| 645kB 7.5MB/s \n",
            "\u001b[?25hRequirement already satisfied: tqdm>=4.27 in /usr/local/lib/python3.6/dist-packages (from transformers) (4.41.1)\n",
            "Requirement already satisfied: filelock in /usr/local/lib/python3.6/dist-packages (from transformers) (3.0.12)\n",
            "Requirement already satisfied: numpy in /usr/local/lib/python3.6/dist-packages (from transformers) (1.18.4)\n",
            "Collecting sentencepiece\n",
            "\u001b[?25l  Downloading https://files.pythonhosted.org/packages/3b/88/49e772d686088e1278766ad68a463513642a2a877487decbd691dec02955/sentencepiece-0.1.90-cp36-cp36m-manylinux1_x86_64.whl (1.1MB)\n",
            "\r\u001b[K     |▎                               | 10kB 31.8MB/s eta 0:00:01\r\u001b[K     |▋                               | 20kB 38.0MB/s eta 0:00:01\r\u001b[K     |█                               | 30kB 45.5MB/s eta 0:00:01\r\u001b[K     |█▎                              | 40kB 27.5MB/s eta 0:00:01\r\u001b[K     |█▌                              | 51kB 20.6MB/s eta 0:00:01\r\u001b[K     |█▉                              | 61kB 23.4MB/s eta 0:00:01\r\u001b[K     |██▏                             | 71kB 21.4MB/s eta 0:00:01\r\u001b[K     |██▌                             | 81kB 23.3MB/s eta 0:00:01\r\u001b[K     |██▊                             | 92kB 21.5MB/s eta 0:00:01\r\u001b[K     |███                             | 102kB 23.1MB/s eta 0:00:01\r\u001b[K     |███▍                            | 112kB 23.1MB/s eta 0:00:01\r\u001b[K     |███▊                            | 122kB 23.1MB/s eta 0:00:01\r\u001b[K     |████                            | 133kB 23.1MB/s eta 0:00:01\r\u001b[K     |████▎                           | 143kB 23.1MB/s eta 0:00:01\r\u001b[K     |████▋                           | 153kB 23.1MB/s eta 0:00:01\r\u001b[K     |█████                           | 163kB 23.1MB/s eta 0:00:01\r\u001b[K     |█████▏                          | 174kB 23.1MB/s eta 0:00:01\r\u001b[K     |█████▌                          | 184kB 23.1MB/s eta 0:00:01\r\u001b[K     |█████▉                          | 194kB 23.1MB/s eta 0:00:01\r\u001b[K     |██████▏                         | 204kB 23.1MB/s eta 0:00:01\r\u001b[K     |██████▍                         | 215kB 23.1MB/s eta 0:00:01\r\u001b[K     |██████▊                         | 225kB 23.1MB/s eta 0:00:01\r\u001b[K     |███████                         | 235kB 23.1MB/s eta 0:00:01\r\u001b[K     |███████▍                        | 245kB 23.1MB/s eta 0:00:01\r\u001b[K     |███████▋                        | 256kB 23.1MB/s eta 0:00:01\r\u001b[K     |████████                        | 266kB 23.1MB/s eta 0:00:01\r\u001b[K     |████████▎                       | 276kB 23.1MB/s eta 0:00:01\r\u001b[K     |████████▋                       | 286kB 23.1MB/s eta 0:00:01\r\u001b[K     |████████▉                       | 296kB 23.1MB/s eta 0:00:01\r\u001b[K     |█████████▏                      | 307kB 23.1MB/s eta 0:00:01\r\u001b[K     |█████████▌                      | 317kB 23.1MB/s eta 0:00:01\r\u001b[K     |█████████▉                      | 327kB 23.1MB/s eta 0:00:01\r\u001b[K     |██████████                      | 337kB 23.1MB/s eta 0:00:01\r\u001b[K     |██████████▍                     | 348kB 23.1MB/s eta 0:00:01\r\u001b[K     |██████████▊                     | 358kB 23.1MB/s eta 0:00:01\r\u001b[K     |███████████                     | 368kB 23.1MB/s eta 0:00:01\r\u001b[K     |███████████▎                    | 378kB 23.1MB/s eta 0:00:01\r\u001b[K     |███████████▋                    | 389kB 23.1MB/s eta 0:00:01\r\u001b[K     |████████████                    | 399kB 23.1MB/s eta 0:00:01\r\u001b[K     |████████████▎                   | 409kB 23.1MB/s eta 0:00:01\r\u001b[K     |████████████▌                   | 419kB 23.1MB/s eta 0:00:01\r\u001b[K     |████████████▉                   | 430kB 23.1MB/s eta 0:00:01\r\u001b[K     |█████████████▏                  | 440kB 23.1MB/s eta 0:00:01\r\u001b[K     |█████████████▌                  | 450kB 23.1MB/s eta 0:00:01\r\u001b[K     |█████████████▊                  | 460kB 23.1MB/s eta 0:00:01\r\u001b[K     |██████████████                  | 471kB 23.1MB/s eta 0:00:01\r\u001b[K     |██████████████▍                 | 481kB 23.1MB/s eta 0:00:01\r\u001b[K     |██████████████▊                 | 491kB 23.1MB/s eta 0:00:01\r\u001b[K     |███████████████                 | 501kB 23.1MB/s eta 0:00:01\r\u001b[K     |███████████████▎                | 512kB 23.1MB/s eta 0:00:01\r\u001b[K     |███████████████▋                | 522kB 23.1MB/s eta 0:00:01\r\u001b[K     |████████████████                | 532kB 23.1MB/s eta 0:00:01\r\u001b[K     |████████████████▎               | 542kB 23.1MB/s eta 0:00:01\r\u001b[K     |████████████████▌               | 552kB 23.1MB/s eta 0:00:01\r\u001b[K     |████████████████▉               | 563kB 23.1MB/s eta 0:00:01\r\u001b[K     |█████████████████▏              | 573kB 23.1MB/s eta 0:00:01\r\u001b[K     |█████████████████▌              | 583kB 23.1MB/s eta 0:00:01\r\u001b[K     |█████████████████▊              | 593kB 23.1MB/s eta 0:00:01\r\u001b[K     |██████████████████              | 604kB 23.1MB/s eta 0:00:01\r\u001b[K     |██████████████████▍             | 614kB 23.1MB/s eta 0:00:01\r\u001b[K     |██████████████████▊             | 624kB 23.1MB/s eta 0:00:01\r\u001b[K     |███████████████████             | 634kB 23.1MB/s eta 0:00:01\r\u001b[K     |███████████████████▎            | 645kB 23.1MB/s eta 0:00:01\r\u001b[K     |███████████████████▋            | 655kB 23.1MB/s eta 0:00:01\r\u001b[K     |████████████████████            | 665kB 23.1MB/s eta 0:00:01\r\u001b[K     |████████████████████▏           | 675kB 23.1MB/s eta 0:00:01\r\u001b[K     |████████████████████▌           | 686kB 23.1MB/s eta 0:00:01\r\u001b[K     |████████████████████▉           | 696kB 23.1MB/s eta 0:00:01\r\u001b[K     |█████████████████████▏          | 706kB 23.1MB/s eta 0:00:01\r\u001b[K     |█████████████████████▍          | 716kB 23.1MB/s eta 0:00:01\r\u001b[K     |█████████████████████▊          | 727kB 23.1MB/s eta 0:00:01\r\u001b[K     |██████████████████████          | 737kB 23.1MB/s eta 0:00:01\r\u001b[K     |██████████████████████▍         | 747kB 23.1MB/s eta 0:00:01\r\u001b[K     |██████████████████████▋         | 757kB 23.1MB/s eta 0:00:01\r\u001b[K     |███████████████████████         | 768kB 23.1MB/s eta 0:00:01\r\u001b[K     |███████████████████████▎        | 778kB 23.1MB/s eta 0:00:01\r\u001b[K     |███████████████████████▋        | 788kB 23.1MB/s eta 0:00:01\r\u001b[K     |███████████████████████▉        | 798kB 23.1MB/s eta 0:00:01\r\u001b[K     |████████████████████████▏       | 808kB 23.1MB/s eta 0:00:01\r\u001b[K     |████████████████████████▌       | 819kB 23.1MB/s eta 0:00:01\r\u001b[K     |████████████████████████▉       | 829kB 23.1MB/s eta 0:00:01\r\u001b[K     |█████████████████████████       | 839kB 23.1MB/s eta 0:00:01\r\u001b[K     |█████████████████████████▍      | 849kB 23.1MB/s eta 0:00:01\r\u001b[K     |█████████████████████████▊      | 860kB 23.1MB/s eta 0:00:01\r\u001b[K     |██████████████████████████      | 870kB 23.1MB/s eta 0:00:01\r\u001b[K     |██████████████████████████▎     | 880kB 23.1MB/s eta 0:00:01\r\u001b[K     |██████████████████████████▋     | 890kB 23.1MB/s eta 0:00:01\r\u001b[K     |███████████████████████████     | 901kB 23.1MB/s eta 0:00:01\r\u001b[K     |███████████████████████████▎    | 911kB 23.1MB/s eta 0:00:01\r\u001b[K     |███████████████████████████▌    | 921kB 23.1MB/s eta 0:00:01\r\u001b[K     |███████████████████████████▉    | 931kB 23.1MB/s eta 0:00:01\r\u001b[K     |████████████████████████████▏   | 942kB 23.1MB/s eta 0:00:01\r\u001b[K     |████████████████████████████▌   | 952kB 23.1MB/s eta 0:00:01\r\u001b[K     |████████████████████████████▉   | 962kB 23.1MB/s eta 0:00:01\r\u001b[K     |█████████████████████████████   | 972kB 23.1MB/s eta 0:00:01\r\u001b[K     |█████████████████████████████▍  | 983kB 23.1MB/s eta 0:00:01\r\u001b[K     |█████████████████████████████▊  | 993kB 23.1MB/s eta 0:00:01\r\u001b[K     |██████████████████████████████  | 1.0MB 23.1MB/s eta 0:00:01\r\u001b[K     |██████████████████████████████▎ | 1.0MB 23.1MB/s eta 0:00:01\r\u001b[K     |██████████████████████████████▋ | 1.0MB 23.1MB/s eta 0:00:01\r\u001b[K     |███████████████████████████████ | 1.0MB 23.1MB/s eta 0:00:01\r\u001b[K     |███████████████████████████████▎| 1.0MB 23.1MB/s eta 0:00:01\r\u001b[K     |███████████████████████████████▌| 1.1MB 23.1MB/s eta 0:00:01\r\u001b[K     |███████████████████████████████▉| 1.1MB 23.1MB/s eta 0:00:01\r\u001b[K     |████████████████████████████████| 1.1MB 23.1MB/s \n",
            "\u001b[?25hCollecting sacremoses\n",
            "\u001b[?25l  Downloading https://files.pythonhosted.org/packages/7d/34/09d19aff26edcc8eb2a01bed8e98f13a1537005d31e95233fd48216eed10/sacremoses-0.0.43.tar.gz (883kB)\n",
            "\u001b[K     |████████████████████████████████| 890kB 497kB/s \n",
            "\u001b[?25hRequirement already satisfied: regex!=2019.12.17 in /usr/local/lib/python3.6/dist-packages (from transformers) (2019.12.20)\n",
            "Collecting tokenizers==0.7.0\n",
            "\u001b[?25l  Downloading https://files.pythonhosted.org/packages/14/e5/a26eb4716523808bb0a799fcfdceb6ebf77a18169d9591b2f46a9adb87d9/tokenizers-0.7.0-cp36-cp36m-manylinux1_x86_64.whl (3.8MB)\n",
            "\u001b[K     |████████████████████████████████| 3.8MB 47.8MB/s \n",
            "\u001b[?25hRequirement already satisfied: dataclasses; python_version < \"3.7\" in /usr/local/lib/python3.6/dist-packages (from transformers) (0.7)\n",
            "Requirement already satisfied: requests in /usr/local/lib/python3.6/dist-packages (from transformers) (2.23.0)\n",
            "Requirement already satisfied: six in /usr/local/lib/python3.6/dist-packages (from sacremoses->transformers) (1.12.0)\n",
            "Requirement already satisfied: click in /usr/local/lib/python3.6/dist-packages (from sacremoses->transformers) (7.1.2)\n",
            "Requirement already satisfied: joblib in /usr/local/lib/python3.6/dist-packages (from sacremoses->transformers) (0.14.1)\n",
            "Requirement already satisfied: chardet<4,>=3.0.2 in /usr/local/lib/python3.6/dist-packages (from requests->transformers) (3.0.4)\n",
            "Requirement already satisfied: certifi>=2017.4.17 in /usr/local/lib/python3.6/dist-packages (from requests->transformers) (2020.4.5.1)\n",
            "Requirement already satisfied: urllib3!=1.25.0,!=1.25.1,<1.26,>=1.21.1 in /usr/local/lib/python3.6/dist-packages (from requests->transformers) (1.24.3)\n",
            "Requirement already satisfied: idna<3,>=2.5 in /usr/local/lib/python3.6/dist-packages (from requests->transformers) (2.9)\n",
            "Building wheels for collected packages: sacremoses\n",
            "  Building wheel for sacremoses (setup.py) ... \u001b[?25l\u001b[?25hdone\n",
            "  Created wheel for sacremoses: filename=sacremoses-0.0.43-cp36-none-any.whl size=893260 sha256=056d9bc21de0b8ad116aa155d7ef18e1a0fbf032d440e871a5aadf916d2e674a\n",
            "  Stored in directory: /root/.cache/pip/wheels/29/3c/fd/7ce5c3f0666dab31a50123635e6fb5e19ceb42ce38d4e58f45\n",
            "Successfully built sacremoses\n",
            "Installing collected packages: sentencepiece, sacremoses, tokenizers, transformers\n",
            "Successfully installed sacremoses-0.0.43 sentencepiece-0.1.90 tokenizers-0.7.0 transformers-2.9.1\n"
          ],
          "name": "stdout"
        }
      ]
    },
    {
      "cell_type": "code",
      "metadata": {
        "id": "R7lHS6yKTgTm"
      },
      "source": [
        "import torch\n",
        "from transformers import AutoModelWithLMHead, AutoTokenizer"
      ],
      "execution_count": null,
      "outputs": []
    },
    {
      "cell_type": "code",
      "metadata": {
        "id": "LW83dUWVTpjb"
      },
      "source": [
        "device = 'cuda' if torch.cuda.is_available() else 'cpu'"
      ],
      "execution_count": null,
      "outputs": []
    },
    {
      "cell_type": "code",
      "metadata": {
        "id": "5TfdDFGvTyRO",
        "colab": {
          "base_uri": "https://localhost:8080/",
          "height": 261,
          "referenced_widgets": [
            "b4ece37eefde442c89beaa0cbd418d9c",
            "b9443541349c4fe88cc87cd83205d186",
            "b5ce8f0f02e0464387a8f61edd30c6e5",
            "6ee2207e8fad4225ba56eccf36e08c74",
            "e811d82997f54ee0aad02e52437b1acf",
            "6e447135dd77400c86efb6165bcb4e54",
            "31aec7619ea04de5b640348a6f394775",
            "88f192d5e27643bfb17fdf38d88f51ae",
            "19566fd2481c46a4b4ed1d163670278b",
            "9abbbee2b45548f7a638d6cf1b002e3d",
            "336c4a650f514e09ad4ab7215c00ec22",
            "ee47da69c50a44938c9a9d8e98aa4d30",
            "11625372863a484fa38e95b4c77b67c5",
            "9d828726d27342d9bc8cbb2775616b3e",
            "bc594145ce8c4cc7b62093983c2b390b",
            "172588aeefdb48b28591fe6c2f965252",
            "cea26a989e854803afe1bf2099b764af",
            "1c7796f3de804a148f39324cf6f2db79",
            "e29f6a651a384991b3e327d168fe51e7",
            "790032eed6404ebfa5e713bb66767bb6",
            "bb15d26cd4bb48bd87239da8e603f3cd",
            "95ae1fbcf6a44957b9558effae8c85b7",
            "427cd01eb0b74c6992f370e6177bc04b",
            "fd047dc5b49a472b91ffe9b01759e589",
            "8ef742c94aac49e3941d3b829f8b55e5",
            "1f7c155dd05841bc958aac1349caa353",
            "305b3a16b2af434397c0236b5de2bcb7",
            "0ef441005e1040c28fe7ee7aea965222",
            "4333c2b2c5fe46b7b78c759c7e473026",
            "18b82f574f0c47a5b1698ff6f6ea9444",
            "0ba3680d8a8c4fd88745a3ff639bd62d",
            "97ed014220d941c1953554d244322742",
            "0315d0b5e4e949bbaaef059cfe5f5d35",
            "9dca87dd17504341a096366ef14f3c6a",
            "626facc5f0b1464fb9f6005b6d3ce774",
            "be99728ff5be47b79af6c485a7213d55",
            "cad6a30041c14fbc8e523f7d87cf4f04",
            "73ef37d1f87c47a0a724b1fec1a21a8f",
            "f3d090f69b48483b9890020abbbbb2de",
            "ce79dc0773a349dda8255d7adcdbf34a"
          ]
        },
        "outputId": "0c7fa8ad-15bd-4502-a03a-95660f645ab3"
      },
      "source": [
        "tokenizer = AutoTokenizer.from_pretrained(\"valhalla/t5-base-squad\")\n",
        "\n",
        "model = AutoModelWithLMHead.from_pretrained(\"valhalla/t5-base-squad\")"
      ],
      "execution_count": null,
      "outputs": [
        {
          "output_type": "display_data",
          "data": {
            "application/vnd.jupyter.widget-view+json": {
              "model_id": "b4ece37eefde442c89beaa0cbd418d9c",
              "version_minor": 0,
              "version_major": 2
            },
            "text/plain": [
              "HBox(children=(FloatProgress(value=0.0, description='Downloading', max=1231.0, style=ProgressStyle(description…"
            ]
          },
          "metadata": {
            "tags": []
          }
        },
        {
          "output_type": "stream",
          "text": [
            "\n"
          ],
          "name": "stdout"
        },
        {
          "output_type": "display_data",
          "data": {
            "application/vnd.jupyter.widget-view+json": {
              "model_id": "19566fd2481c46a4b4ed1d163670278b",
              "version_minor": 0,
              "version_major": 2
            },
            "text/plain": [
              "HBox(children=(FloatProgress(value=0.0, description='Downloading', max=791656.0, style=ProgressStyle(descripti…"
            ]
          },
          "metadata": {
            "tags": []
          }
        },
        {
          "output_type": "stream",
          "text": [
            "\n"
          ],
          "name": "stdout"
        },
        {
          "output_type": "display_data",
          "data": {
            "application/vnd.jupyter.widget-view+json": {
              "model_id": "cea26a989e854803afe1bf2099b764af",
              "version_minor": 0,
              "version_major": 2
            },
            "text/plain": [
              "HBox(children=(FloatProgress(value=0.0, description='Downloading', max=65.0, style=ProgressStyle(description_w…"
            ]
          },
          "metadata": {
            "tags": []
          }
        },
        {
          "output_type": "stream",
          "text": [
            "\n"
          ],
          "name": "stdout"
        },
        {
          "output_type": "display_data",
          "data": {
            "application/vnd.jupyter.widget-view+json": {
              "model_id": "8ef742c94aac49e3941d3b829f8b55e5",
              "version_minor": 0,
              "version_major": 2
            },
            "text/plain": [
              "HBox(children=(FloatProgress(value=0.0, description='Downloading', max=90.0, style=ProgressStyle(description_w…"
            ]
          },
          "metadata": {
            "tags": []
          }
        },
        {
          "output_type": "stream",
          "text": [
            "\n"
          ],
          "name": "stdout"
        },
        {
          "output_type": "display_data",
          "data": {
            "application/vnd.jupyter.widget-view+json": {
              "model_id": "0315d0b5e4e949bbaaef059cfe5f5d35",
              "version_minor": 0,
              "version_major": 2
            },
            "text/plain": [
              "HBox(children=(FloatProgress(value=0.0, description='Downloading', max=891688805.0, style=ProgressStyle(descri…"
            ]
          },
          "metadata": {
            "tags": []
          }
        },
        {
          "output_type": "stream",
          "text": [
            "\n"
          ],
          "name": "stdout"
        }
      ]
    },
    {
      "cell_type": "code",
      "metadata": {
        "id": "o7ESePixUofi"
      },
      "source": [
        "model = model.to(device)"
      ],
      "execution_count": null,
      "outputs": []
    },
    {
      "cell_type": "code",
      "metadata": {
        "id": "InfGO-oAWEY3"
      },
      "source": [
        "def get_answer(question, context):\n",
        "  input_text = \"question: %s  context: %s </s>\" % (question, context)\n",
        "  features = tokenizer.batch_encode_plus([input_text], return_tensors='pt')\n",
        "\n",
        "  out = model.generate(input_ids=features['input_ids'].to(device),\n",
        "               attention_mask=features['attention_mask'].to(device))\n",
        "\n",
        "  return tokenizer.decode(out[0])"
      ],
      "execution_count": null,
      "outputs": []
    },
    {
      "cell_type": "code",
      "metadata": {
        "id": "PiD6S6PDT1yK"
      },
      "source": [
        "context = \"In Norse mythology, Valhalla is a majestic, enormous hall located in Asgard, ruled over by the god Odin.\"\n",
        "question = \"What is Valhalla ?\""
      ],
      "execution_count": null,
      "outputs": []
    },
    {
      "cell_type": "code",
      "metadata": {
        "id": "HZSI2PY-WVR4",
        "colab": {
          "base_uri": "https://localhost:8080/",
          "height": 34
        },
        "outputId": "4f82e1ee-1225-4302-e6b8-4f0991046924"
      },
      "source": [
        "get_answer(question, context)"
      ],
      "execution_count": null,
      "outputs": [
        {
          "output_type": "execute_result",
          "data": {
            "text/plain": [
              "'a majestic, enormous hall located in Asgard, ruled over by the god Odin'"
            ]
          },
          "metadata": {
            "tags": []
          },
          "execution_count": 19
        }
      ]
    }
  ]
}